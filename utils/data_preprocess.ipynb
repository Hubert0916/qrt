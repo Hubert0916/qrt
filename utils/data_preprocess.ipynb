{
 "cells": [
  {
   "cell_type": "code",
   "execution_count": null,
   "id": "86645ed5",
   "metadata": {},
   "outputs": [],
   "source": [
    "esg_words = ['clean', 'environmental', 'epa', 'sustainability', 'climate', 'warming', 'biofuel', 'biofuels', 'green', 'renewable', 'solar', 'stewardship', 'wind', 'atmosphere', 'emission', 'emissions', 'emit', 'ghg', 'ghgs', 'greenhouse', 'agriculture', 'deforestation', 'pesticide', 'pesticides', 'wetlands', 'zoning', 'biodiversity', 'species', 'wilderness', 'wildlife', 'freshwater', 'groundwater', 'water', 'cleaner', 'cleanup', 'coal', 'contamination', 'fossil', 'resource', 'air', 'carbon', 'nitrogen', 'pollution', 'superfund', 'biphenyls', 'hazardous', 'householding', 'pollutants', 'printing', 'recycle', 'recycling', 'toxic', 'waste', 'wastes', 'weee', 'climate change', 'conservation', 'environmentally', 'footprint', 'global warming', 'pollutant', 'recycled', 'sustainable', 'sustainably',\n",
    "'citizen', 'citizens', 'csr', 'disabilities', 'disability', 'disabled', 'human', 'nations', 'social', 'un', 'veteran', 'veterans', 'vulnerable', 'dignity', 'discriminate', 'discriminated', 'discriminating', 'discrimination', 'equality', 'freedom', 'humanity', 'nondiscrimination', 'sexual', 'communities', 'community', 'expression', 'marriage', 'privacy', 'peace', 'bargaining', 'eeo', 'fairness', 'fla', 'harassment', 'injury', 'labor', 'overtime', 'ruggie', 'sick', 'wage', 'wages', 'workplace', 'bisexual', 'diversity', 'ethnic', 'ethnically', 'ethnicities', 'ethnicity', 'female', 'females', 'gay', 'gays', 'gender', 'genders', 'homosexual', 'immigration', 'lesbian', 'lesbians', 'lgbt', 'minorities', 'minority', 'ms', 'race', 'racial', 'religion', 'religious', 'sex', 'transgender', 'woman',\n",
    "'women', 'occupational', 'safe', 'safely', 'safety', 'ilo', 'labour', 'eicc', 'children', 'epidemic', 'health', 'healthy', 'ill', 'illness', 'pandemic', 'childbirth', 'drug', 'medicaid', 'medicare', 'medicine', 'medicines', 'hiv', 'alcohol', 'drinking', 'bugs', 'conformance', 'defects', 'fda', 'inspection', 'inspections', 'minerals', 'standardization', 'warranty', 'endowment', 'endowments', 'people', 'philanthropic', 'philanthropy', 'socially', 'societal', 'society', 'welfare', 'charitable', 'charities', 'charity', 'donate', 'donated', 'donates', 'donating', 'donation', 'donations', 'donors', 'foundation', 'foundations', 'gift', 'gifts', 'nonprofit', 'poverty', 'courses', 'educate', 'educated', 'educates', 'educating', 'education', 'educational', 'learning', 'mentoring', 'scholarships', 'teach', 'teacher', 'teachers', 'teaching', 'training', 'employ', 'employment', 'headcount', 'hire', 'hired', 'hires', 'hiring', 'staffing', 'unemployment',\n",
    "'align', 'aligned', 'aligning', 'alignment', 'aligns', 'bylaw', 'bylaws', 'charter', 'charters', 'culture', 'death', 'duly', 'independent', 'parents', 'cobc', 'ethic', 'ethical', 'ethically', 'ethics', 'honesty', 'bribery', 'corrupt', 'corruption', 'crimes', 'embezzlement', 'grassroots', 'influence', 'influences', 'influencing', 'lobbied', 'lobbies', 'lobby', 'lobbying', 'lobbyist', 'lobbyists', 'whistleblower', 'compliance', 'conduct', 'conformity', 'governance', 'misconduct', 'parachute', 'parachutes', 'perquisites', 'plane', 'planes', 'poison', 'retirement', 'approval', 'approvals', 'approve', 'approved', 'approves', 'approving', 'assess', 'assessed', 'assesses', 'assessing', 'assessment', 'assessments', 'audit', 'audited', 'auditing', 'auditor', 'auditors', 'audits', 'control', 'controls', 'coso', 'detect', 'detected', 'detecting', 'detection', 'evaluate', 'evaluated', 'evaluates', 'evaluating', 'evaluation', 'evaluations', 'examination',\n",
    "'examinations', 'examine', 'examined', 'examines', 'examining', 'irs', 'oversee', 'overseeing', 'oversees', 'oversight', 'review', 'reviewed', 'reviewing', 'reviews', 'rotation', 'test', 'tested', 'testing', 'tests', 'treadway', 'backgrounds', 'independence', 'leadership', 'nomination', 'nominations', 'nominee', 'nominees', 'perspectives', 'qualifications', 'refreshment', 'skill', 'skills', 'succession', 'tenure', 'vacancies', 'vacancy', 'appreciation', 'award', 'awarded', 'awarding', 'awards', 'bonus', 'bonuses', 'cd', 'compensate', 'compensated', 'compensates', 'compensating', 'compensation', 'eip', 'iso', 'isos', 'payout', 'payouts', 'pension', 'prsu', 'prsus', 'recoupment', 'remuneration', 'reward', 'rewarding', 'rewards', 'rsu', 'rsus', 'salaries', 'salary', 'severance', 'vest', 'vested', 'vesting', 'vests', 'ballot', 'ballots', 'cast', 'consent', 'elect', 'elected', 'electing', 'election', 'elections', 'elects', 'nominate', 'nominated',\n",
    "'plurality', 'proponent', 'proponents', 'proposal', 'proposals', 'proxies', 'quorum', 'vote', 'voted', 'votes', 'voting', 'attract', 'attracting', 'attracts', 'incentive', 'incentives', 'interview', 'interviews', 'motivate', 'motivated', 'motivates', 'motivating', 'motivation', 'recruit', 'recruiting', 'recruitment', 'retain', 'retainer', 'retainers', 'retaining', 'retention', 'talent', 'talented', 'talents', 'brother', 'clicking', 'conflict', 'conflicts', 'family', 'grandchildren', 'grandparent', 'grandparents', 'inform', 'insider', 'insiders', 'inspector', 'inspectors', 'interlocks', 'nephews', 'nieces', 'posting', 'relatives', 'siblings', 'sister', 'son', 'spousal', 'spouse', 'spouses', 'stepchildren', 'stepparents', 'transparency', 'transparent', 'visit', 'visiting', 'visits', 'webpage', 'website', 'announce', 'announced', 'announcement', 'announcements', 'announces', 'announcing', 'communicate', 'communicated', 'communicates', 'communicating',\n",
    "'erm', 'fairly', 'integrity', 'liaison', 'presentation', 'presentations', 'asc', 'disclose', 'disclosed', 'discloses', 'disclosing', 'disclosure', 'disclosures', 'fasb', 'gaap', 'objectivity', 'press', 'sarbanes', 'engagement', 'engagements', 'feedback', 'hotline', 'investor', 'invite', 'invited', 'mail', 'mailed', 'mailing', 'mailings', 'notice', 'relations', 'stakeholder', 'stakeholders', 'compact', 'ungc']"
   ]
  },
  {
   "cell_type": "code",
   "execution_count": null,
   "id": "111fbc2b",
   "metadata": {},
   "outputs": [],
   "source": [
    "import nltk\n",
    "# nltk.download() "
   ]
  },
  {
   "cell_type": "code",
   "execution_count": null,
   "id": "366f1d4e",
   "metadata": {},
   "outputs": [],
   "source": [
    "path = \"Your datase path\"\n",
    "raise NotImplementedError"
   ]
  },
  {
   "cell_type": "code",
   "execution_count": null,
   "id": "ba8e30e8",
   "metadata": {},
   "outputs": [],
   "source": [
    "import dask.dataframe as dd\n",
    "df = dd.read_csv(f\"{path}/AR_data_r_v3.csv\", encoding='utf-8-sig')\n",
    "df"
   ]
  },
  {
   "cell_type": "code",
   "execution_count": null,
   "id": "a02017cc",
   "metadata": {},
   "outputs": [],
   "source": [
    "import pandas as pd\n",
    "import numpy as np\n",
    "from tqdm import tqdm\n",
    "from sklearn.feature_extraction.text import CountVectorizer\n",
    "from nltk.stem import PorterStemmer\n",
    "import nltk\n",
    "import dask.dataframe as dd\n",
    "\n",
    "tqdm.pandas()\n",
    "\n",
    "df = dd.read_csv(f\"{path}/AR_data_r_v3.csv\", encoding='utf-8-sig')\n",
    "\n",
    "df = df[\n",
    "    df[\"predicted_category\"].isin([1, 2, 3, 4, 5]) &\n",
    "    (~df[\"trade_type\"].isin([\"no_trade\"]))\n",
    "].copy()\n",
    "\n",
    "\n",
    "def tokenize_and_stem(text: str) -> list[str]:\n",
    "    stemmer = PorterStemmer()\n",
    "    tokens = nltk.word_tokenize(str(text).lower())\n",
    "    return [stemmer.stem(tok) for tok in tokens if tok.isalpha()]\n",
    "\n",
    "\n",
    "texts = df['filtered_text'].fillna('').apply(str, meta=('filtered_text', 'object')).compute()\n",
    "vectorizer = CountVectorizer(\n",
    "    tokenizer=tokenize_and_stem,\n",
    "    vocabulary=esg_words,\n",
    "    lowercase=True\n",
    ")\n",
    "tf_matrix  = vectorizer.fit_transform(texts)  # shape = (n_docs, n_words)\n",
    "\n",
    "N    = tf_matrix.shape[0]\n",
    "df_j = (tf_matrix > 0).sum(axis=0).A1\n",
    "\n",
    "idf = np.log((N + 1) / (df_j + 1)) + 1\n",
    "\n",
    "tfidf_matrix = tf_matrix.multiply(idf)\n",
    "\n",
    "feature_names = vectorizer.get_feature_names_out()\n",
    "tfidf_df = pd.DataFrame(\n",
    "    tfidf_matrix.toarray(),\n",
    "    columns=[f\"{w}_TFIDF\" for w in feature_names]\n",
    ")\n",
    "\n",
    "meta_df = df[['CIK','Filing Date','BL','BH','AL','AH','range']].compute().rename(\n",
    "    columns={\n",
    "        'CIK': '文章ID',\n",
    "        'Filing Date': '日期',\n",
    "        'BL':'BL',\n",
    "        'BH':'BH',\n",
    "        'AL':'AL',\n",
    "        'AH':'AH',\n",
    "        'range': '報酬率'\n",
    "    }\n",
    ").reset_index(drop=True)\n",
    "\n",
    "days   = [-4, -3, -2, -1, 1, 2, 3, 4]\n",
    "fields = ['BIDLO', 'ASKHI', 'PRC', 'OPENPRC']  \n",
    "\n",
    "expected_cols = [f'{f}_{d}d' for d in days for f in fields]\n",
    "\n",
    "have_cols = [c for c in expected_cols if c in df.columns]\n",
    "ohlc_8d = df[have_cols].compute().reset_index(drop=True)   # 注意這裡也要 .compute()\n",
    "\n",
    "output_df = pd.concat(\n",
    "    [meta_df.reset_index(drop=True),\n",
    "     ohlc_8d.reset_index(drop=True),\n",
    "     tfidf_df.reset_index(drop=True)],\n",
    "    axis=1\n",
    ")\n",
    "\n",
    "output_df.to_csv(\n",
    "    'data/esg_tfidf_with_return.csv',\n",
    "    index=False,\n",
    "    encoding='utf-8-sig'\n",
    ")\n",
    "\n",
    "print(\"已輸出 → esg_tfidf_with_return.csv\")\n"
   ]
  },
  {
   "cell_type": "code",
   "execution_count": null,
   "id": "ebec311e",
   "metadata": {},
   "outputs": [],
   "source": [
    "import numpy as np\n",
    "import pandas as pd\n",
    "from pandas.api.types import is_integer_dtype\n",
    "\n",
    "dfv = pd.read_csv(f\"data/esg_tfidf_with_return.csv\", encoding='utf-8-sig')\n",
    "\n",
    "tf_cols = [c for c in dfv.columns if c.endswith('_TFIDF')]\n",
    "print(f\"TF 欄位數量: {len(tf_cols)}\")\n",
    "\n",
    "print(\"任何缺失值？\", dfv[tf_cols].isna().any().any())\n",
    "na_per_col = dfv[tf_cols].isna().sum()\n",
    "print(\"有缺失的欄位(前10):\\n\", na_per_col[na_per_col>0].sort_values(ascending=False).head(10))\n",
    "\n",
    "arr = dfv[tf_cols].to_numpy()\n",
    "print(\"任何正/負無限？\", np.isinf(arr).any())\n",
    "\n",
    "all_int = all(is_integer_dtype(dfv[c]) for c in tf_cols)\n",
    "print(\"所有 TF 欄都是整數型別？\", all_int)\n",
    "\n",
    "for c in tf_cols:\n",
    "    if not is_integer_dtype(dfv[c]):\n",
    "        dfv[c] = dfv[c].fillna(0).round().astype(int)\n",
    "dfv.to_csv(\n",
    "    'data/esg_tfidf_with_return_cleaned.csv',\n",
    "    index=False,\n",
    "    encoding='utf-8-sig'\n",
    ")   \n"
   ]
  },
  {
   "cell_type": "code",
   "execution_count": null,
   "id": "6c86f5a9",
   "metadata": {},
   "outputs": [],
   "source": [
    "dfv.head(10)"
   ]
  }
 ],
 "metadata": {
  "kernelspec": {
   "display_name": "qrt",
   "language": "python",
   "name": "python3"
  },
  "language_info": {
   "codemirror_mode": {
    "name": "ipython",
    "version": 3
   },
   "file_extension": ".py",
   "mimetype": "text/x-python",
   "name": "python",
   "nbconvert_exporter": "python",
   "pygments_lexer": "ipython3",
   "version": "3.11.13"
  }
 },
 "nbformat": 4,
 "nbformat_minor": 5
}
